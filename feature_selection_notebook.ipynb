{
 "cells": [
  {
   "cell_type": "markdown",
   "metadata": {
    "pycharm": {
     "name": "#%% md\n"
    }
   },
   "source": [
    "# Feature Selection Using Association rules"
   ]
  },
  {
   "cell_type": "markdown",
   "metadata": {
    "pycharm": {
     "name": "#%% md\n"
    }
   },
   "source": [
    "### This notebook presents the interface to use the newly crafted association rules based feature selector. In addition, the notebook presents a comparison between the new approach and chi-squared (correlation based) feature selector."
   ]
  },
  {
   "cell_type": "markdown",
   "metadata": {
    "pycharm": {
     "name": "#%% md\n"
    }
   },
   "source": [
    "### Setup"
   ]
  },
  {
   "cell_type": "markdown",
   "metadata": {
    "pycharm": {
     "name": "#%% md\n"
    }
   },
   "source": [
    "#### Install requirements.txt"
   ]
  },
  {
   "cell_type": "code",
   "execution_count": 1,
   "metadata": {
    "pycharm": {
     "name": "#%%\n"
    }
   },
   "outputs": [
    {
     "name": "stdout",
     "output_type": "stream",
     "text": [
      "Requirement already satisfied: efficient-apriori in c:\\users\\ben\\desktop\\cs\\biu\\tabulardatascience\\project\\code\\project_env\\lib\\site-packages (from -r requirements.txt (line 1)) (2.0.3)\n",
      "Note: you may need to restart the kernel to use updated packages.\n"
     ]
    }
   ],
   "source": [
    "%pip install -r requirements.txt"
   ]
  },
  {
   "cell_type": "markdown",
   "metadata": {
    "pycharm": {
     "name": "#%% md\n"
    }
   },
   "source": [
    "#### Import the standard libs as well as feature Selector based on association rules"
   ]
  },
  {
   "cell_type": "markdown",
   "metadata": {
    "pycharm": {
     "name": "#%% md\n"
    }
   },
   "source": [
    "##### standard libs"
   ]
  },
  {
   "cell_type": "code",
   "execution_count": 2,
   "metadata": {
    "pycharm": {
     "name": "#%%\n"
    }
   },
   "outputs": [],
   "source": [
    "from typing import List\n",
    "from sklearn import tree"
   ]
  },
  {
   "cell_type": "markdown",
   "metadata": {
    "pycharm": {
     "name": "#%% md\n"
    }
   },
   "source": [
    "##### feature selector based on association rules"
   ]
  },
  {
   "cell_type": "code",
   "execution_count": 3,
   "metadata": {
    "pycharm": {
     "name": "#%%\n"
    }
   },
   "outputs": [],
   "source": [
    "from feature_selector import preprocessing\n",
    "from feature_selector.feature_selection import feature_rank\n",
    "from feature_selector.evaluation import evaluate_prediction\n",
    "from feature_selector.bin_columns import bin_numeric_columns\n",
    "from feature_selector.one_hot_column import transform_one_hot_column\n",
    "from feature_selector.correlation import get_sorted_chi_squared_parameters\n",
    "from feature_selector.association_rules import calc_apriori_rules, filter_rules_related_to_target\n",
    "from feature_selector.evaluation import pre_process_df, preprocess_columns, split_to_features_and_target\n",
    "from feature_selector.utils import load_datasets, get_min_support, get_min_confidence, get_target_column"
   ]
  },
  {
   "cell_type": "markdown",
   "metadata": {
    "pycharm": {
     "name": "#%% md\n"
    }
   },
   "source": [
    "### Read and preprocess Data"
   ]
  },
  {
   "cell_type": "code",
   "execution_count": 4,
   "metadata": {
    "pycharm": {
     "name": "#%%\n"
    }
   },
   "outputs": [],
   "source": [
    "# Dataset be one of the following: [\"MobilePriceRange\", \"HomeLoanApproval\", \"AirlinesDelay\", \"HeartAttack\"]\n",
    "\n",
    "dataset_name = \"HeartAttack\"\n",
    "train_df, test_df = load_datasets(dataset_name=dataset_name)\n",
    "train_df = pre_process_df(train_df)"
   ]
  },
  {
   "cell_type": "code",
   "execution_count": 5,
   "metadata": {
    "pycharm": {
     "name": "#%%\n"
    }
   },
   "outputs": [],
   "source": [
    "train_df, columns_types = preprocessing.preprocessing(train_df)\n",
    "target_column = get_target_column(dataset_name=dataset_name)"
   ]
  },
  {
   "cell_type": "markdown",
   "metadata": {
    "pycharm": {
     "name": "#%% md\n"
    }
   },
   "source": [
    "### Feature Selection using association rules"
   ]
  },
  {
   "cell_type": "markdown",
   "metadata": {
    "pycharm": {
     "name": "#%% md\n"
    }
   },
   "source": [
    "#### preprocess"
   ]
  },
  {
   "cell_type": "code",
   "execution_count": 6,
   "metadata": {
    "pycharm": {
     "name": "#%%\n"
    }
   },
   "outputs": [],
   "source": [
    "train_df = bin_numeric_columns(df=train_df, columns=columns_types.very_numerical)\n",
    "\n",
    "cols_to_hot_col = columns_types.all()\n",
    "cols_to_hot_col.remove(target_column)\n",
    "\n",
    "train_df = transform_one_hot_column(df=train_df, columns=cols_to_hot_col, to_remove_one_hot_col=False)"
   ]
  },
  {
   "cell_type": "markdown",
   "metadata": {
    "pycharm": {
     "name": "#%% md\n"
    }
   },
   "source": [
    "#### Execute Apriori algorithm to extract features relations"
   ]
  },
  {
   "cell_type": "code",
   "execution_count": 7,
   "metadata": {
    "pycharm": {
     "name": "#%%\n"
    }
   },
   "outputs": [],
   "source": [
    "min_support = get_min_support(dataset_name=dataset_name)\n",
    "min_confidence = get_min_confidence(dataset_name=dataset_name)\n",
    "\n",
    "rules = calc_apriori_rules(train_df=train_df, min_support=min_support, min_confidence=min_confidence)"
   ]
  },
  {
   "cell_type": "markdown",
   "metadata": {
    "pycharm": {
     "name": "#%% md\n"
    }
   },
   "source": [
    "#### Filter only relevant rules that implies on the target column and generate feature importance ranking"
   ]
  },
  {
   "cell_type": "code",
   "execution_count": 8,
   "metadata": {
    "pycharm": {
     "name": "#%%\n"
    }
   },
   "outputs": [
    {
     "name": "stdout",
     "output_type": "stream",
     "text": [
      "feature ranks:['thall', 'fbs', 'exng', 'restecg', 'slp', 'oldpeak', 'caa', 'sex', 'cp']\n"
     ]
    }
   ],
   "source": [
    "relevant_rules = filter_rules_related_to_target(rules=rules, target_column=target_column)\n",
    "\n",
    "feature_ranks = feature_rank(relevant_rules)\n",
    "association_rules_features = [feature for feature, _ in feature_ranks]\n",
    "print(f\"feature ranks:{association_rules_features}\")"
   ]
  },
  {
   "cell_type": "markdown",
   "metadata": {
    "pycharm": {
     "name": "#%% md\n"
    }
   },
   "source": [
    "### Evaluation"
   ]
  },
  {
   "cell_type": "code",
   "execution_count": 9,
   "metadata": {
    "pycharm": {
     "name": "#%%\n"
    }
   },
   "outputs": [
    {
     "name": "stdout",
     "output_type": "stream",
     "text": [
      "['thall', 'fbs', 'exng', 'restecg', 'slp', 'oldpeak', 'caa', 'sex', 'output']\n"
     ]
    }
   ],
   "source": [
    "number_of_features_to_include_in_model = 8\n",
    "\n",
    "selected_features = association_rules_features[:number_of_features_to_include_in_model]\n",
    "total_features = selected_features.copy()\n",
    "total_features.append(target_column)\n",
    "print(total_features)"
   ]
  },
  {
   "cell_type": "code",
   "execution_count": 10,
   "metadata": {
    "pycharm": {
     "name": "#%%\n"
    }
   },
   "outputs": [],
   "source": [
    "eval_train_df, eval_test_df = load_datasets(dataset_name=dataset_name)\n",
    "eval_train_df = pre_process_df(eval_train_df)\n",
    "eval_train_df, y_train_df = split_to_features_and_target(\n",
    "    df=eval_train_df,\n",
    "    relevant_features=selected_features,\n",
    "    target_feature=target_column\n",
    ")\n",
    "eval_train_df, y_train_df = preprocess_columns(features_df=eval_train_df,\n",
    "                                                target_df=y_train_df,\n",
    "                                                columns_to_label_encode=columns_types.categorical)"
   ]
  },
  {
   "cell_type": "markdown",
   "metadata": {
    "pycharm": {
     "name": "#%% md\n"
    }
   },
   "source": [
    "### create classifier model and fit"
   ]
  },
  {
   "cell_type": "code",
   "execution_count": 11,
   "metadata": {
    "pycharm": {
     "name": "#%%\n"
    }
   },
   "outputs": [],
   "source": [
    "clf = tree.DecisionTreeClassifier()\n",
    "\n",
    "clf = clf.fit(eval_train_df, y_train_df)\n",
    "\n",
    "eval_train_df = pre_process_df(df=eval_test_df)\n",
    "eval_test_df, y_test_df = split_to_features_and_target(df=eval_test_df,\n",
    "                                                           relevant_features=selected_features,\n",
    "                                                           target_feature=target_column)\n",
    "\n",
    "eval_test_df, y_test_df = preprocess_columns(features_df=eval_test_df,\n",
    "                                             target_df=y_test_df,\n",
    "                                             columns_to_label_encode=columns_types.categorical)"
   ]
  },
  {
   "cell_type": "markdown",
   "metadata": {
    "pycharm": {
     "name": "#%% md\n"
    }
   },
   "source": [
    "### evaluate prediction"
   ]
  },
  {
   "cell_type": "code",
   "execution_count": 12,
   "metadata": {
    "pycharm": {
     "name": "#%%\n"
    }
   },
   "outputs": [
    {
     "name": "stdout",
     "output_type": "stream",
     "text": [
      "Association rules based feature-selector success rate:0.8351648351648352\n"
     ]
    }
   ],
   "source": [
    "column_name = y_test_df.columns[0]\n",
    "test_values = y_test_df[column_name].tolist()\n",
    "predictions = clf.predict(eval_test_df)\n",
    "\n",
    "success_percentage = evaluate_prediction(predictions=predictions, test_values=test_values)\n",
    "print(f\"Association rules based feature-selector success rate:{success_percentage}\")"
   ]
  },
  {
   "cell_type": "markdown",
   "metadata": {
    "pycharm": {
     "name": "#%% md\n"
    }
   },
   "source": [
    "#### check `chi squared` based feature selector performance"
   ]
  },
  {
   "cell_type": "code",
   "execution_count": 13,
   "metadata": {
    "pycharm": {
     "name": "#%%\n"
    }
   },
   "outputs": [],
   "source": [
    "train_df2, test_df2 = load_datasets(dataset_name=dataset_name)\n",
    "sorted_chi_squared_features_correlation: List = get_sorted_chi_squared_parameters(\n",
    "    df=train_df2,\n",
    "    categorical_columns=cols_to_hot_col,\n",
    "    target_column=target_column)"
   ]
  },
  {
   "cell_type": "code",
   "execution_count": 14,
   "metadata": {
    "pycharm": {
     "name": "#%%\n"
    }
   },
   "outputs": [
    {
     "name": "stdout",
     "output_type": "stream",
     "text": [
      "['thall', 'cp', 'caa', 'exng', 'slp', 'sex', 'restecg', 'oldpeak']\n"
     ]
    }
   ],
   "source": [
    "chi_squared_best_features = sorted_chi_squared_features_correlation[:number_of_features_to_include_in_model]\n",
    "print(chi_squared_best_features)"
   ]
  },
  {
   "cell_type": "markdown",
   "metadata": {
    "pycharm": {
     "name": "#%% md\n"
    }
   },
   "source": [
    "###### Evaluate such model"
   ]
  },
  {
   "cell_type": "code",
   "execution_count": 16,
   "outputs": [
    {
     "name": "stdout",
     "output_type": "stream",
     "text": [
      "Chi squared feature selector success rate:0.8021978021978022\n"
     ]
    }
   ],
   "source": [
    "eval_train_df, eval_test_df = load_datasets(dataset_name=dataset_name)\n",
    "eval_train_df = pre_process_df(eval_train_df)\n",
    "eval_train_df, y_train_df = split_to_features_and_target(\n",
    "    df=eval_train_df,\n",
    "    relevant_features=chi_squared_best_features,\n",
    "    target_feature=target_column\n",
    ")\n",
    "eval_train_df, y_train_df = preprocess_columns(features_df=eval_train_df,\n",
    "                                               target_df=y_train_df,\n",
    "                                               columns_to_label_encode=columns_types.categorical)\n",
    "clf = tree.DecisionTreeClassifier()\n",
    "clf = clf.fit(eval_train_df, y_train_df)\n",
    "\n",
    "eval_train_df = pre_process_df(df=eval_test_df)\n",
    "eval_test_df, y_test_df = split_to_features_and_target(df=eval_test_df,\n",
    "                                                       relevant_features=chi_squared_best_features,\n",
    "                                                       target_feature=target_column)\n",
    "\n",
    "eval_test_df, y_test_df = preprocess_columns(features_df=eval_test_df,\n",
    "                                             target_df=y_test_df,\n",
    "                                             columns_to_label_encode=columns_types.categorical)\n",
    "column_name = y_test_df.columns[0]\n",
    "test_values = y_test_df[column_name].tolist()\n",
    "predictions = clf.predict(eval_test_df)\n",
    "\n",
    "success_percentage = evaluate_prediction(predictions=predictions, test_values=test_values)\n",
    "print(f\"Chi squared feature selector success rate:{success_percentage}\")"
   ],
   "metadata": {
    "collapsed": false,
    "pycharm": {
     "name": "#%%\n"
    }
   }
  },
  {
   "cell_type": "code",
   "execution_count": null,
   "outputs": [],
   "source": [],
   "metadata": {
    "collapsed": false,
    "pycharm": {
     "name": "#%%\n"
    }
   }
  }
 ],
 "metadata": {
  "kernelspec": {
   "display_name": "Python 3 (ipykernel)",
   "language": "python",
   "name": "python3"
  },
  "language_info": {
   "codemirror_mode": {
    "name": "ipython",
    "version": 3
   },
   "file_extension": ".py",
   "mimetype": "text/x-python",
   "name": "python",
   "nbconvert_exporter": "python",
   "pygments_lexer": "ipython3",
   "version": "3.10.7"
  }
 },
 "nbformat": 4,
 "nbformat_minor": 1
}